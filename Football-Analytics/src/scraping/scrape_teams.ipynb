{
 "cells": [
  {
   "cell_type": "code",
   "execution_count": 76,
   "id": "5562a287",
   "metadata": {},
   "outputs": [
    {
     "name": "stdout",
     "output_type": "stream",
     "text": [
      "Navigateur ouvert.\n",
      "Connexion à : https://fbref.com/en/comps/9/2024-2025/2024-2025-Premier-League-Stats\n"
     ]
    }
   ],
   "source": [
    "\n",
    "import time\n",
    "import pandas as pd\n",
    "from selenium import webdriver\n",
    "from selenium.webdriver.common.by import By \n",
    "from selenium.webdriver.chrome.service import Service\n",
    "from webdriver_manager.chrome import ChromeDriverManager\n",
    "\n",
    "\n",
    "driver = webdriver.Chrome()\n",
    "print(\"Navigateur ouvert.\")\n",
    "\n",
    "\n",
    "url = \"https://fbref.com/en/comps/9/2024-2025/2024-2025-Premier-League-Stats\"\n",
    "driver.get(url)\n",
    "print(f\"Connexion à : {url}\")\n",
    "\n",
    "time.sleep(3) \n"
   ]
  },
  {
   "cell_type": "code",
   "execution_count": 78,
   "id": "ca2c8fc7",
   "metadata": {},
   "outputs": [
    {
     "name": "stdout",
     "output_type": "stream",
     "text": [
      "Rk Squad MP W D L GF GA GD Pts Pts/MP xG xGA xGD xGD/90 Attendance Top Team Scorer Goalkeeper Notes\n",
      "1 Liverpool 38 25 9 4 86 41 +45 84 2.21 82.2 38.6 +43.6 +1.15 60,324 Mohamed Salah - 29 Alisson → Champions League via league finish\n",
      "2 Arsenal 38 20 14 4 69 34 +35 74 1.95 59.9 34.4 +25.5 +0.67 60,251 Kai Havertz - 9 David Raya → Champions League via league finish\n",
      "3 Manchester City 38 21 8 9 72 44 +28 71 1.87 68.1 47.7 +20.4 +0.54 52,756 Erling Haaland - 22 Ederson → Champions League via league finish\n",
      "4 Chelsea 38 20 9 9 64 43 +21 69 1.82 67.8 47.3 +20.5 +0.54 39,672 Cole Palmer - 15 Robert Sánchez → Champions League via league finish\n",
      "5 Newcastle Utd 38 20 6 12 68 47 +21 66 1.74 63.8 45.5 +18.3 +0.48 52,187 Alexander Isak - 23 Nick Pope → Champions League via league finish\n",
      "6 Aston Villa 38 19 9 10 58 51 +7 66 1.74 56.1 50.1 +5.9 +0.16 42,079 Ollie Watkins - 16 Emiliano Martínez → Europa League via league finish\n",
      "7 Nott'ham Forest 38 19 8 11 58 46 +12 65 1.71 45.5 48.9 -3.4 -0.09 30,059 Chris Wood - 20 Matz Sels → Conference League via league finish\n",
      "8 Brighton 38 16 13 9 66 59 +7 61 1.61 58.7 54.6 +4.1 +0.11 31,798 Danny Welbeck, Kaoru Mitoma... - 10 Bart Verbruggen\n",
      "9 Bournemouth 38 15 11 12 58 46 +12 56 1.47 64.0 48.5 +15.5 +0.41 11,210 Justin Kluivert - 12 Kepa Arrizabalaga\n",
      "10 Brentford 38 16 8 14 66 57 +9 56 1.47 59.0 55.4 +3.6 +0.09 18,742 Bryan Mbeumo - 20 Mark Flekken\n",
      "11 Fulham 38 15 9 14 54 54 0 54 1.42 49.0 47.2 +1.8 +0.05 26,826 Raúl Jiménez - 12 Bernd Leno\n",
      "12 Crystal Palace 38 13 14 11 51 51 0 53 1.39 60.4 49.1 +11.3 +0.30 25,064 Jean-Philippe Mateta - 14 Dean Henderson → Europa League via cup win\n",
      "13 Everton 38 11 15 12 42 44 -2 48 1.26 41.8 46.2 -4.5 -0.12 38,439 Iliman Ndiaye - 9 Jordan Pickford\n",
      "14 West Ham 38 11 10 17 46 62 -16 43 1.13 47.0 59.7 -12.7 -0.33 62,463 Jarrod Bowen - 13 Alphonse Areola\n",
      "15 Manchester Utd 38 11 9 18 44 54 -10 42 1.11 52.6 53.8 -1.3 -0.03 73,747 Bruno Fernandes, Amad Diallo - 8 André Onana\n",
      "16 Wolves 38 12 6 20 54 69 -15 42 1.11 43.7 58.1 -14.5 -0.38 30,695 Matheus Cunha - 15 José Sá\n",
      "17 Tottenham 38 11 5 22 64 65 -1 38 1.00 58.8 63.3 -4.5 -0.12 61,127 Brennan Johnson - 11 Guglielmo Vicario → Champions League\n",
      "18 Leicester City 38 6 7 25 33 80 -47 25 0.66 32.6 71.9 -39.3 -1.03 31,448 Jamie Vardy - 9 Mads Hermansen Relegated\n",
      "19 Ipswich Town 38 4 10 24 36 82 -46 22 0.58 34.4 72.7 -38.3 -1.01 29,742 Liam Delap - 12 Arijanet Muric Relegated\n",
      "20 Southampton 38 2 6 30 26 86 -60 12 0.32 32.7 84.8 -52.1 -1.37 30,882 Paul Onuachu - 4 Aaron Ramsdale Relegated\n"
     ]
    }
   ],
   "source": [
    "teams_table= driver.find_element(By.CSS_SELECTOR,'.stats_table')\n",
    "\n",
    "print(teams_table.text)\n",
    "# driver.quit()"
   ]
  },
  {
   "cell_type": "code",
   "execution_count": 79,
   "id": "0cba89a3",
   "metadata": {},
   "outputs": [
    {
     "name": "stdout",
     "output_type": "stream",
     "text": [
      "20 équipes trouvées :\n",
      "Liverpool\n",
      "Arsenal\n",
      "Manchester City\n",
      "Chelsea\n",
      "Newcastle Utd\n",
      "Aston Villa\n",
      "Nott'ham Forest\n",
      "Brighton\n",
      "Bournemouth\n",
      "Brentford\n",
      "Fulham\n",
      "Crystal Palace\n",
      "Everton\n",
      "West Ham\n",
      "Manchester Utd\n",
      "Wolves\n",
      "Tottenham\n",
      "Leicester City\n",
      "Ipswich Town\n",
      "Southampton\n",
      "dict_items([('Liverpool', 'https://fbref.com/en/squads/822bd0ba/2024-2025/Liverpool-Stats'), ('Arsenal', 'https://fbref.com/en/squads/18bb7c10/2024-2025/Arsenal-Stats'), ('Manchester City', 'https://fbref.com/en/squads/b8fd03ef/2024-2025/Manchester-City-Stats'), ('Chelsea', 'https://fbref.com/en/squads/cff3d9bb/2024-2025/Chelsea-Stats'), ('Newcastle Utd', 'https://fbref.com/en/squads/b2b47a98/2024-2025/Newcastle-United-Stats'), ('Aston Villa', 'https://fbref.com/en/squads/8602292d/2024-2025/Aston-Villa-Stats'), (\"Nott'ham Forest\", 'https://fbref.com/en/squads/e4a775cb/2024-2025/Nottingham-Forest-Stats'), ('Brighton', 'https://fbref.com/en/squads/d07537b9/2024-2025/Brighton-and-Hove-Albion-Stats'), ('Bournemouth', 'https://fbref.com/en/squads/4ba7cbea/2024-2025/Bournemouth-Stats'), ('Brentford', 'https://fbref.com/en/squads/cd051869/2024-2025/Brentford-Stats'), ('Fulham', 'https://fbref.com/en/squads/fd962109/2024-2025/Fulham-Stats'), ('Crystal Palace', 'https://fbref.com/en/squads/47c64c55/2024-2025/Crystal-Palace-Stats'), ('Everton', 'https://fbref.com/en/squads/d3fd31cc/2024-2025/Everton-Stats'), ('West Ham', 'https://fbref.com/en/squads/7c21e445/2024-2025/West-Ham-United-Stats'), ('Manchester Utd', 'https://fbref.com/en/squads/19538871/2024-2025/Manchester-United-Stats'), ('Wolves', 'https://fbref.com/en/squads/8cec06e1/2024-2025/Wolverhampton-Wanderers-Stats'), ('Tottenham', 'https://fbref.com/en/squads/361ca564/2024-2025/Tottenham-Hotspur-Stats'), ('Leicester City', 'https://fbref.com/en/squads/a2d435b3/2024-2025/Leicester-City-Stats'), ('Ipswich Town', 'https://fbref.com/en/squads/b74092de/2024-2025/Ipswich-Town-Stats'), ('Southampton', 'https://fbref.com/en/squads/33c895d4/2024-2025/Southampton-Stats')])\n",
      " Tous les dossiers ont été créés avec succès.\n"
     ]
    }
   ],
   "source": [
    "import os\n",
    "teams_name=teams_table.find_elements(By.CSS_SELECTOR,'tbody > tr td[data-stat=\"team\"] a')\n",
    "base_path = \"../../data/raw/bronze/teams/\"  \n",
    "os.makedirs(base_path, exist_ok=True)\n",
    "\n",
    "print(f\"{len(teams_name)} équipes trouvées :\")\n",
    "dictionary_teams = {}\n",
    "for team in teams_name:\n",
    "    team_name = team.text.strip() \n",
    "    team_link = team.get_attribute(\"href\")  \n",
    "    dictionary_teams[team_name]=team_link\n",
    "    print(team_name)\n",
    "    team_folder=os.path.join(base_path,team_name)\n",
    "    os.makedirs(team_folder, exist_ok=True)\n",
    "    \n",
    "print(dictionary_teams.items())\n",
    "print(\" Tous les dossiers ont été créés avec succès.\")"
   ]
  },
  {
   "cell_type": "code",
   "execution_count": null,
   "id": "19054176",
   "metadata": {},
   "outputs": [
    {
     "name": "stderr",
     "output_type": "stream",
     "text": [
      "C:\\Users\\oussa\\AppData\\Local\\Temp\\ipykernel_38952\\3071462437.py:17: FutureWarning: Passing literal html to 'read_html' is deprecated and will be removed in a future version. To read from a literal string, wrap it in a 'StringIO' object.\n",
      "  df=pd.read_html(str(table))[0]\n",
      "C:\\Users\\oussa\\AppData\\Local\\Temp\\ipykernel_38952\\3071462437.py:27: FutureWarning: Passing literal html to 'read_html' is deprecated and will be removed in a future version. To read from a literal string, wrap it in a 'StringIO' object.\n",
      "  df_matchs=pd.read_html(str(table2))[0]\n"
     ]
    },
    {
     "name": "stdout",
     "output_type": "stream",
     "text": [
      "Fichier enregistré pour l'équipe Liverpool : ../../data/raw/bronze/teams/Liverpool\\Liverpool_players_stats.csv\n"
     ]
    },
    {
     "name": "stderr",
     "output_type": "stream",
     "text": [
      "C:\\Users\\oussa\\AppData\\Local\\Temp\\ipykernel_38952\\3071462437.py:17: FutureWarning: Passing literal html to 'read_html' is deprecated and will be removed in a future version. To read from a literal string, wrap it in a 'StringIO' object.\n",
      "  df=pd.read_html(str(table))[0]\n",
      "C:\\Users\\oussa\\AppData\\Local\\Temp\\ipykernel_38952\\3071462437.py:27: FutureWarning: Passing literal html to 'read_html' is deprecated and will be removed in a future version. To read from a literal string, wrap it in a 'StringIO' object.\n",
      "  df_matchs=pd.read_html(str(table2))[0]\n"
     ]
    },
    {
     "name": "stdout",
     "output_type": "stream",
     "text": [
      "Fichier enregistré pour l'équipe Arsenal : ../../data/raw/bronze/teams/Arsenal\\Arsenal_players_stats.csv\n"
     ]
    },
    {
     "name": "stderr",
     "output_type": "stream",
     "text": [
      "C:\\Users\\oussa\\AppData\\Local\\Temp\\ipykernel_38952\\3071462437.py:17: FutureWarning: Passing literal html to 'read_html' is deprecated and will be removed in a future version. To read from a literal string, wrap it in a 'StringIO' object.\n",
      "  df=pd.read_html(str(table))[0]\n",
      "C:\\Users\\oussa\\AppData\\Local\\Temp\\ipykernel_38952\\3071462437.py:27: FutureWarning: Passing literal html to 'read_html' is deprecated and will be removed in a future version. To read from a literal string, wrap it in a 'StringIO' object.\n",
      "  df_matchs=pd.read_html(str(table2))[0]\n"
     ]
    },
    {
     "name": "stdout",
     "output_type": "stream",
     "text": [
      "Fichier enregistré pour l'équipe Manchester City : ../../data/raw/bronze/teams/Manchester City\\Manchester City_players_stats.csv\n"
     ]
    },
    {
     "name": "stderr",
     "output_type": "stream",
     "text": [
      "C:\\Users\\oussa\\AppData\\Local\\Temp\\ipykernel_38952\\3071462437.py:17: FutureWarning: Passing literal html to 'read_html' is deprecated and will be removed in a future version. To read from a literal string, wrap it in a 'StringIO' object.\n",
      "  df=pd.read_html(str(table))[0]\n",
      "C:\\Users\\oussa\\AppData\\Local\\Temp\\ipykernel_38952\\3071462437.py:27: FutureWarning: Passing literal html to 'read_html' is deprecated and will be removed in a future version. To read from a literal string, wrap it in a 'StringIO' object.\n",
      "  df_matchs=pd.read_html(str(table2))[0]\n"
     ]
    },
    {
     "name": "stdout",
     "output_type": "stream",
     "text": [
      "Fichier enregistré pour l'équipe Chelsea : ../../data/raw/bronze/teams/Chelsea\\Chelsea_players_stats.csv\n"
     ]
    },
    {
     "name": "stderr",
     "output_type": "stream",
     "text": [
      "C:\\Users\\oussa\\AppData\\Local\\Temp\\ipykernel_38952\\3071462437.py:17: FutureWarning: Passing literal html to 'read_html' is deprecated and will be removed in a future version. To read from a literal string, wrap it in a 'StringIO' object.\n",
      "  df=pd.read_html(str(table))[0]\n",
      "C:\\Users\\oussa\\AppData\\Local\\Temp\\ipykernel_38952\\3071462437.py:27: FutureWarning: Passing literal html to 'read_html' is deprecated and will be removed in a future version. To read from a literal string, wrap it in a 'StringIO' object.\n",
      "  df_matchs=pd.read_html(str(table2))[0]\n"
     ]
    },
    {
     "name": "stdout",
     "output_type": "stream",
     "text": [
      "Fichier enregistré pour l'équipe Newcastle Utd : ../../data/raw/bronze/teams/Newcastle Utd\\Newcastle Utd_players_stats.csv\n"
     ]
    },
    {
     "name": "stderr",
     "output_type": "stream",
     "text": [
      "C:\\Users\\oussa\\AppData\\Local\\Temp\\ipykernel_38952\\3071462437.py:17: FutureWarning: Passing literal html to 'read_html' is deprecated and will be removed in a future version. To read from a literal string, wrap it in a 'StringIO' object.\n",
      "  df=pd.read_html(str(table))[0]\n",
      "C:\\Users\\oussa\\AppData\\Local\\Temp\\ipykernel_38952\\3071462437.py:27: FutureWarning: Passing literal html to 'read_html' is deprecated and will be removed in a future version. To read from a literal string, wrap it in a 'StringIO' object.\n",
      "  df_matchs=pd.read_html(str(table2))[0]\n"
     ]
    },
    {
     "name": "stdout",
     "output_type": "stream",
     "text": [
      "Fichier enregistré pour l'équipe Aston Villa : ../../data/raw/bronze/teams/Aston Villa\\Aston Villa_players_stats.csv\n"
     ]
    },
    {
     "name": "stderr",
     "output_type": "stream",
     "text": [
      "C:\\Users\\oussa\\AppData\\Local\\Temp\\ipykernel_38952\\3071462437.py:17: FutureWarning: Passing literal html to 'read_html' is deprecated and will be removed in a future version. To read from a literal string, wrap it in a 'StringIO' object.\n",
      "  df=pd.read_html(str(table))[0]\n",
      "C:\\Users\\oussa\\AppData\\Local\\Temp\\ipykernel_38952\\3071462437.py:27: FutureWarning: Passing literal html to 'read_html' is deprecated and will be removed in a future version. To read from a literal string, wrap it in a 'StringIO' object.\n",
      "  df_matchs=pd.read_html(str(table2))[0]\n"
     ]
    },
    {
     "name": "stdout",
     "output_type": "stream",
     "text": [
      "Fichier enregistré pour l'équipe Nott'ham Forest : ../../data/raw/bronze/teams/Nott'ham Forest\\Nott'ham Forest_players_stats.csv\n"
     ]
    },
    {
     "name": "stderr",
     "output_type": "stream",
     "text": [
      "C:\\Users\\oussa\\AppData\\Local\\Temp\\ipykernel_38952\\3071462437.py:17: FutureWarning: Passing literal html to 'read_html' is deprecated and will be removed in a future version. To read from a literal string, wrap it in a 'StringIO' object.\n",
      "  df=pd.read_html(str(table))[0]\n",
      "C:\\Users\\oussa\\AppData\\Local\\Temp\\ipykernel_38952\\3071462437.py:27: FutureWarning: Passing literal html to 'read_html' is deprecated and will be removed in a future version. To read from a literal string, wrap it in a 'StringIO' object.\n",
      "  df_matchs=pd.read_html(str(table2))[0]\n"
     ]
    },
    {
     "name": "stdout",
     "output_type": "stream",
     "text": [
      "Fichier enregistré pour l'équipe Brighton : ../../data/raw/bronze/teams/Brighton\\Brighton_players_stats.csv\n"
     ]
    },
    {
     "name": "stderr",
     "output_type": "stream",
     "text": [
      "C:\\Users\\oussa\\AppData\\Local\\Temp\\ipykernel_38952\\3071462437.py:17: FutureWarning: Passing literal html to 'read_html' is deprecated and will be removed in a future version. To read from a literal string, wrap it in a 'StringIO' object.\n",
      "  df=pd.read_html(str(table))[0]\n",
      "C:\\Users\\oussa\\AppData\\Local\\Temp\\ipykernel_38952\\3071462437.py:27: FutureWarning: Passing literal html to 'read_html' is deprecated and will be removed in a future version. To read from a literal string, wrap it in a 'StringIO' object.\n",
      "  df_matchs=pd.read_html(str(table2))[0]\n"
     ]
    },
    {
     "name": "stdout",
     "output_type": "stream",
     "text": [
      "Fichier enregistré pour l'équipe Bournemouth : ../../data/raw/bronze/teams/Bournemouth\\Bournemouth_players_stats.csv\n"
     ]
    },
    {
     "name": "stderr",
     "output_type": "stream",
     "text": [
      "C:\\Users\\oussa\\AppData\\Local\\Temp\\ipykernel_38952\\3071462437.py:17: FutureWarning: Passing literal html to 'read_html' is deprecated and will be removed in a future version. To read from a literal string, wrap it in a 'StringIO' object.\n",
      "  df=pd.read_html(str(table))[0]\n",
      "C:\\Users\\oussa\\AppData\\Local\\Temp\\ipykernel_38952\\3071462437.py:27: FutureWarning: Passing literal html to 'read_html' is deprecated and will be removed in a future version. To read from a literal string, wrap it in a 'StringIO' object.\n",
      "  df_matchs=pd.read_html(str(table2))[0]\n"
     ]
    },
    {
     "name": "stdout",
     "output_type": "stream",
     "text": [
      "Fichier enregistré pour l'équipe Brentford : ../../data/raw/bronze/teams/Brentford\\Brentford_players_stats.csv\n"
     ]
    },
    {
     "name": "stderr",
     "output_type": "stream",
     "text": [
      "C:\\Users\\oussa\\AppData\\Local\\Temp\\ipykernel_38952\\3071462437.py:17: FutureWarning: Passing literal html to 'read_html' is deprecated and will be removed in a future version. To read from a literal string, wrap it in a 'StringIO' object.\n",
      "  df=pd.read_html(str(table))[0]\n",
      "C:\\Users\\oussa\\AppData\\Local\\Temp\\ipykernel_38952\\3071462437.py:27: FutureWarning: Passing literal html to 'read_html' is deprecated and will be removed in a future version. To read from a literal string, wrap it in a 'StringIO' object.\n",
      "  df_matchs=pd.read_html(str(table2))[0]\n"
     ]
    },
    {
     "name": "stdout",
     "output_type": "stream",
     "text": [
      "Fichier enregistré pour l'équipe Fulham : ../../data/raw/bronze/teams/Fulham\\Fulham_players_stats.csv\n"
     ]
    },
    {
     "name": "stderr",
     "output_type": "stream",
     "text": [
      "C:\\Users\\oussa\\AppData\\Local\\Temp\\ipykernel_38952\\3071462437.py:17: FutureWarning: Passing literal html to 'read_html' is deprecated and will be removed in a future version. To read from a literal string, wrap it in a 'StringIO' object.\n",
      "  df=pd.read_html(str(table))[0]\n",
      "C:\\Users\\oussa\\AppData\\Local\\Temp\\ipykernel_38952\\3071462437.py:27: FutureWarning: Passing literal html to 'read_html' is deprecated and will be removed in a future version. To read from a literal string, wrap it in a 'StringIO' object.\n",
      "  df_matchs=pd.read_html(str(table2))[0]\n"
     ]
    },
    {
     "name": "stdout",
     "output_type": "stream",
     "text": [
      "Fichier enregistré pour l'équipe Crystal Palace : ../../data/raw/bronze/teams/Crystal Palace\\Crystal Palace_players_stats.csv\n"
     ]
    },
    {
     "name": "stderr",
     "output_type": "stream",
     "text": [
      "C:\\Users\\oussa\\AppData\\Local\\Temp\\ipykernel_38952\\3071462437.py:17: FutureWarning: Passing literal html to 'read_html' is deprecated and will be removed in a future version. To read from a literal string, wrap it in a 'StringIO' object.\n",
      "  df=pd.read_html(str(table))[0]\n",
      "C:\\Users\\oussa\\AppData\\Local\\Temp\\ipykernel_38952\\3071462437.py:27: FutureWarning: Passing literal html to 'read_html' is deprecated and will be removed in a future version. To read from a literal string, wrap it in a 'StringIO' object.\n",
      "  df_matchs=pd.read_html(str(table2))[0]\n"
     ]
    },
    {
     "name": "stdout",
     "output_type": "stream",
     "text": [
      "Fichier enregistré pour l'équipe Everton : ../../data/raw/bronze/teams/Everton\\Everton_players_stats.csv\n"
     ]
    },
    {
     "name": "stderr",
     "output_type": "stream",
     "text": [
      "C:\\Users\\oussa\\AppData\\Local\\Temp\\ipykernel_38952\\3071462437.py:17: FutureWarning: Passing literal html to 'read_html' is deprecated and will be removed in a future version. To read from a literal string, wrap it in a 'StringIO' object.\n",
      "  df=pd.read_html(str(table))[0]\n",
      "C:\\Users\\oussa\\AppData\\Local\\Temp\\ipykernel_38952\\3071462437.py:27: FutureWarning: Passing literal html to 'read_html' is deprecated and will be removed in a future version. To read from a literal string, wrap it in a 'StringIO' object.\n",
      "  df_matchs=pd.read_html(str(table2))[0]\n"
     ]
    },
    {
     "name": "stdout",
     "output_type": "stream",
     "text": [
      "Fichier enregistré pour l'équipe West Ham : ../../data/raw/bronze/teams/West Ham\\West Ham_players_stats.csv\n"
     ]
    },
    {
     "name": "stderr",
     "output_type": "stream",
     "text": [
      "C:\\Users\\oussa\\AppData\\Local\\Temp\\ipykernel_38952\\3071462437.py:17: FutureWarning: Passing literal html to 'read_html' is deprecated and will be removed in a future version. To read from a literal string, wrap it in a 'StringIO' object.\n",
      "  df=pd.read_html(str(table))[0]\n",
      "C:\\Users\\oussa\\AppData\\Local\\Temp\\ipykernel_38952\\3071462437.py:27: FutureWarning: Passing literal html to 'read_html' is deprecated and will be removed in a future version. To read from a literal string, wrap it in a 'StringIO' object.\n",
      "  df_matchs=pd.read_html(str(table2))[0]\n"
     ]
    },
    {
     "name": "stdout",
     "output_type": "stream",
     "text": [
      "Fichier enregistré pour l'équipe Manchester Utd : ../../data/raw/bronze/teams/Manchester Utd\\Manchester Utd_players_stats.csv\n"
     ]
    },
    {
     "name": "stderr",
     "output_type": "stream",
     "text": [
      "C:\\Users\\oussa\\AppData\\Local\\Temp\\ipykernel_38952\\3071462437.py:17: FutureWarning: Passing literal html to 'read_html' is deprecated and will be removed in a future version. To read from a literal string, wrap it in a 'StringIO' object.\n",
      "  df=pd.read_html(str(table))[0]\n",
      "C:\\Users\\oussa\\AppData\\Local\\Temp\\ipykernel_38952\\3071462437.py:27: FutureWarning: Passing literal html to 'read_html' is deprecated and will be removed in a future version. To read from a literal string, wrap it in a 'StringIO' object.\n",
      "  df_matchs=pd.read_html(str(table2))[0]\n"
     ]
    },
    {
     "name": "stdout",
     "output_type": "stream",
     "text": [
      "Fichier enregistré pour l'équipe Wolves : ../../data/raw/bronze/teams/Wolves\\Wolves_players_stats.csv\n"
     ]
    },
    {
     "name": "stderr",
     "output_type": "stream",
     "text": [
      "C:\\Users\\oussa\\AppData\\Local\\Temp\\ipykernel_38952\\3071462437.py:17: FutureWarning: Passing literal html to 'read_html' is deprecated and will be removed in a future version. To read from a literal string, wrap it in a 'StringIO' object.\n",
      "  df=pd.read_html(str(table))[0]\n",
      "C:\\Users\\oussa\\AppData\\Local\\Temp\\ipykernel_38952\\3071462437.py:27: FutureWarning: Passing literal html to 'read_html' is deprecated and will be removed in a future version. To read from a literal string, wrap it in a 'StringIO' object.\n",
      "  df_matchs=pd.read_html(str(table2))[0]\n"
     ]
    },
    {
     "name": "stdout",
     "output_type": "stream",
     "text": [
      "Fichier enregistré pour l'équipe Tottenham : ../../data/raw/bronze/teams/Tottenham\\Tottenham_players_stats.csv\n"
     ]
    },
    {
     "name": "stderr",
     "output_type": "stream",
     "text": [
      "C:\\Users\\oussa\\AppData\\Local\\Temp\\ipykernel_38952\\3071462437.py:17: FutureWarning: Passing literal html to 'read_html' is deprecated and will be removed in a future version. To read from a literal string, wrap it in a 'StringIO' object.\n",
      "  df=pd.read_html(str(table))[0]\n",
      "C:\\Users\\oussa\\AppData\\Local\\Temp\\ipykernel_38952\\3071462437.py:27: FutureWarning: Passing literal html to 'read_html' is deprecated and will be removed in a future version. To read from a literal string, wrap it in a 'StringIO' object.\n",
      "  df_matchs=pd.read_html(str(table2))[0]\n"
     ]
    },
    {
     "name": "stdout",
     "output_type": "stream",
     "text": [
      "Fichier enregistré pour l'équipe Leicester City : ../../data/raw/bronze/teams/Leicester City\\Leicester City_players_stats.csv\n"
     ]
    },
    {
     "name": "stderr",
     "output_type": "stream",
     "text": [
      "C:\\Users\\oussa\\AppData\\Local\\Temp\\ipykernel_38952\\3071462437.py:17: FutureWarning: Passing literal html to 'read_html' is deprecated and will be removed in a future version. To read from a literal string, wrap it in a 'StringIO' object.\n",
      "  df=pd.read_html(str(table))[0]\n",
      "C:\\Users\\oussa\\AppData\\Local\\Temp\\ipykernel_38952\\3071462437.py:27: FutureWarning: Passing literal html to 'read_html' is deprecated and will be removed in a future version. To read from a literal string, wrap it in a 'StringIO' object.\n",
      "  df_matchs=pd.read_html(str(table2))[0]\n"
     ]
    },
    {
     "name": "stdout",
     "output_type": "stream",
     "text": [
      "Fichier enregistré pour l'équipe Ipswich Town : ../../data/raw/bronze/teams/Ipswich Town\\Ipswich Town_players_stats.csv\n",
      "Fichier enregistré pour l'équipe Southampton : ../../data/raw/bronze/teams/Southampton\\Southampton_players_stats.csv\n"
     ]
    },
    {
     "name": "stderr",
     "output_type": "stream",
     "text": [
      "C:\\Users\\oussa\\AppData\\Local\\Temp\\ipykernel_38952\\3071462437.py:17: FutureWarning: Passing literal html to 'read_html' is deprecated and will be removed in a future version. To read from a literal string, wrap it in a 'StringIO' object.\n",
      "  df=pd.read_html(str(table))[0]\n",
      "C:\\Users\\oussa\\AppData\\Local\\Temp\\ipykernel_38952\\3071462437.py:27: FutureWarning: Passing literal html to 'read_html' is deprecated and will be removed in a future version. To read from a literal string, wrap it in a 'StringIO' object.\n",
      "  df_matchs=pd.read_html(str(table2))[0]\n"
     ]
    }
   ],
   "source": [
    "from bs4 import BeautifulSoup\n",
    "import pandas as pd \n",
    "for team,link in dictionary_teams.items():\n",
    "    driver.get(link)\n",
    "    time.sleep(4)\n",
    "\n",
    "    soup=BeautifulSoup(driver.page_source,'html.parser')\n",
    "    ## Extraction  des joueurs\n",
    "    table=soup.find('table',{'id':'stats_standard_9'})\n",
    "\n",
    "\n",
    "    thead = table.find(\"thead\")\n",
    "    header_rows = thead.find_all(\"tr\")\n",
    "    \n",
    "    header_rows[0].decompose()\n",
    "    \n",
    "    df=pd.read_html(str(table))[0]\n",
    "    colonnes_interessees = [\"Player\", \"Nation\", \"Pos\", \"Age\", \"MP\",\"Starts\",\"Min\",\"90s\",\"Gls\", \"Ast\", \"G+A\", \"G-PK\",\"PK\",\"PKatt\",\"CrdY\",\"CrdR\"]\n",
    "    df_players = df[colonnes_interessees]\n",
    "    file_path=os.path.join(base_path,team,f\"{team}_players_stats.csv\")\n",
    "    df_players.to_csv(file_path,index=False)\n",
    "    print(f\"Fichier enregistré pour l'équipe {team} : {file_path}\")\n",
    "\n",
    "## Extraction  d'équipe\n",
    "    table2=soup.find('table',{'id':\"matchlogs_for\"})\n",
    "    colonnes_matchs_interessees=[\"Date\",\"Comp\",\"Round\",\"Day\",\"Venue\",\"Result\",\"GF\",\"GA\",\"Opponent\",\"xG\",\"xGA\",\"Poss\",\"Attendance\",\"Captain\",\"Formation\",\"Opp Formation\",\"Referee\"]\n",
    "    df_matchs=pd.read_html(str(table2))[0]\n",
    "    df_matchs_equipes=df_matchs[colonnes_matchs_interessees]\n",
    "    file_path_equipes=os.path.join(base_path,team,f\"{team}_matchs_stats.csv\")\n",
    "    df_matchs_equipes.to_csv(file_path_equipes,index=False)\n"
   ]
  },
  {
   "cell_type": "code",
   "execution_count": null,
   "id": "62a273d7",
   "metadata": {},
   "outputs": [
    {
     "name": "stdout",
     "output_type": "stream",
     "text": [
      "                Player   Nation    Pos Age  MP Starts   Min   90s Gls Ast G+A  \\\n",
      "0           David Raya   es ESP     GK  28  38     38  3420  38.0   0   0   0   \n",
      "1       William Saliba   fr FRA     DF  23  35     35  3039  33.8   2   0   2   \n",
      "2          Declan Rice  eng ENG     MF  25  35     33  2825  31.4   4   7  11   \n",
      "3        Thomas Partey   gh GHA  MF,DF  31  35     31  2797  31.1   4   2   6   \n",
      "4     Leandro Trossard   be BEL     FW  29  38     28  2546  28.3   8   7  15   \n",
      "5    Gabriel Magalhães   br BRA     DF  26  28     28  2363  26.3   3   1   4   \n",
      "6       Jurriën Timber   nl NED     DF  23  30     27  2417  26.9   1   3   4   \n",
      "7      Martin Ødegaard   no NOR     MF  25  30     26  2325  25.8   3   8  11   \n",
      "8   Gabriel Martinelli   br BRA  FW,MF  23  33     25  2290  25.4   8   4  12   \n",
      "9          Kai Havertz   de GER  FW,MF  25  23     21  1875  20.8   9   3  12   \n",
      "10         Bukayo Saka  eng ENG  FW,MF  22  25     20  1729  19.2   6  10  16   \n",
      "11        Mikel Merino   es ESP  MF,FW  28  28     17  1586  17.6   7   2   9   \n",
      "12  Myles Lewis-Skelly  eng ENG     DF  17  23     15  1369  15.2   1   0   1   \n",
      "13           Ben White  eng ENG     DF  26  17     13  1198  13.3   0   2   2   \n",
      "14  Riccardo Calafiori   it ITA     DF  22  19     11   983  10.9   2   1   3   \n",
      "15       Ethan Nwaneri  eng ENG  FW,MF  17  26     11   895   9.9   4   2   6   \n",
      "16        Jakub Kiwior   pl POL     DF  24  17     10  1122  12.5   1   0   1   \n",
      "17            Jorginho   it ITA     MF  32  15      9   704   7.8   0   0   0   \n",
      "18     Raheem Sterling  eng ENG  FW,MF  29  17      7   499   5.5   0   2   2   \n",
      "19       Gabriel Jesus   br BRA     FW  27  17      6   608   6.8   3   0   3   \n",
      "\n",
      "   G-PK PK PKatt CrdY CrdR  \n",
      "0     0  0     0    3    0  \n",
      "1     2  0     0    2    1  \n",
      "2     4  0     0    7    1  \n",
      "3     4  0     0    4    0  \n",
      "4     8  0     0    4    1  \n",
      "5     3  0     0    4    0  \n",
      "6     1  0     0    7    0  \n",
      "7     2  1     1    4    0  \n",
      "8     8  0     0    1    0  \n",
      "9     9  0     0    5    0  \n",
      "10    5  1     1    3    0  \n",
      "11    7  0     0    4    1  \n",
      "12    1  0     0    3    2  \n",
      "13    0  0     0    2    0  \n",
      "14    2  0     0    4    0  \n",
      "15    4  0     0    1    0  \n",
      "16    1  0     0    1    0  \n",
      "17    0  0     0    5    0  \n",
      "18    0  0     0    1    0  \n",
      "19    3  0     0    4    0  \n",
      "(40, 16)\n"
     ]
    }
   ],
   "source": [
    "import pandas as pd\n",
    "\n",
    "df = pd.read_csv(\"../../data/raw/bronze/teams/Arsenal/Arsenal_players_stats.csv\")\n",
    "\n",
    "mask = df.apply(lambda row: row.astype(str).str.contains(\"Playing Time|Performance\").any(), axis=1)\n",
    "df = df[~mask]\n",
    "\n",
    "df = df[~df[\"Player\"].isin([\"Player\", \"Ast\"])]\n",
    "\n",
    "df = df.reset_index(drop=True)\n",
    "\n",
    "print(df.head(20))\n",
    "print(df.shape)\n"
   ]
  }
 ],
 "metadata": {
  "kernelspec": {
   "display_name": "Python 3",
   "language": "python",
   "name": "python3"
  },
  "language_info": {
   "codemirror_mode": {
    "name": "ipython",
    "version": 3
   },
   "file_extension": ".py",
   "mimetype": "text/x-python",
   "name": "python",
   "nbconvert_exporter": "python",
   "pygments_lexer": "ipython3",
   "version": "3.13.7"
  }
 },
 "nbformat": 4,
 "nbformat_minor": 5
}
