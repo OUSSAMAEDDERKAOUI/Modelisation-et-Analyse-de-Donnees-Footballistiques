{
 "cells": [
  {
   "cell_type": "markdown",
   "id": "7ed66a45",
   "metadata": {},
   "source": [
    " ##### suppression ou traitement des valeurs manquantes et incohérentes.\n"
   ]
  },
  {
   "cell_type": "code",
   "execution_count": 1,
   "id": "49414615",
   "metadata": {},
   "outputs": [],
   "source": [
    "import pandas as pd "
   ]
  },
  {
   "cell_type": "markdown",
   "id": "ad9b6da2",
   "metadata": {},
   "source": [
    "#### extraire la partie « pays » depuis la colonne Nation"
   ]
  },
  {
   "cell_type": "code",
   "execution_count": 11,
   "id": "f52ec779",
   "metadata": {},
   "outputs": [
    {
     "name": "stdout",
     "output_type": "stream",
     "text": [
      "l'affichage avant la traitement : \n",
      " \n",
      "              Player   Nation    Pos   Age  MP  Starts     Min   90s  Gls  Ast  \\\n",
      "0        David Raya   es ESP     GK  28.0  38      38  3420.0  38.0  0.0  0.0   \n",
      "1    William Saliba   fr FRA     DF  23.0  35      35  3039.0  33.8  2.0  0.0   \n",
      "2       Declan Rice  eng ENG     MF  25.0  35      33  2825.0  31.4  4.0  7.0   \n",
      "3     Thomas Partey   gh GHA  MF,DF  31.0  35      31  2797.0  31.1  4.0  2.0   \n",
      "4  Leandro Trossard   be BEL     FW  29.0  38      28  2546.0  28.3  8.0  7.0   \n",
      "\n",
      "    G+A  G-PK   PK  PKatt  CrdY  CrdR     Team  \n",
      "0   0.0   0.0  0.0    0.0   3.0   0.0  Arsenal  \n",
      "1   2.0   2.0  0.0    0.0   2.0   1.0  Arsenal  \n",
      "2  11.0   4.0  0.0    0.0   7.0   1.0  Arsenal  \n",
      "3   6.0   4.0  0.0    0.0   4.0   0.0  Arsenal  \n",
      "4  15.0   8.0  0.0    0.0   4.0   1.0  Arsenal   \n",
      "\n",
      "l'affichage apres la traitement : \n",
      " \n",
      "              Player Nation    Pos   Age  MP  Starts     Min   90s  Gls  Ast  \\\n",
      "0        David Raya    ESP     GK  28.0  38      38  3420.0  38.0  0.0  0.0   \n",
      "1    William Saliba    FRA     DF  23.0  35      35  3039.0  33.8  2.0  0.0   \n",
      "2       Declan Rice    ENG     MF  25.0  35      33  2825.0  31.4  4.0  7.0   \n",
      "3     Thomas Partey    GHA  MF,DF  31.0  35      31  2797.0  31.1  4.0  2.0   \n",
      "4  Leandro Trossard    BEL     FW  29.0  38      28  2546.0  28.3  8.0  7.0   \n",
      "\n",
      "    G+A  G-PK   PK  PKatt  CrdY  CrdR     Team  \n",
      "0   0.0   0.0  0.0    0.0   3.0   0.0  Arsenal  \n",
      "1   2.0   2.0  0.0    0.0   2.0   1.0  Arsenal  \n",
      "2  11.0   4.0  0.0    0.0   7.0   1.0  Arsenal  \n",
      "3   6.0   4.0  0.0    0.0   4.0   0.0  Arsenal  \n",
      "4  15.0   8.0  0.0    0.0   4.0   1.0  Arsenal  \n",
      "\n"
     ]
    }
   ],
   "source": [
    "df =pd.read_csv(\"../../data/processed/all_players.csv\")\n",
    "print(f\"l'affichage avant la traitement : \\n \\n {df.head()} \\n\")\n",
    "df[\"Nation\"]=df[\"Nation\"].str.split().str[1]\n",
    "print(f\"l'affichage apres la traitement : \\n \\n {df.head()}\\n\")\n",
    "\n"
   ]
  },
  {
   "cell_type": "markdown",
   "id": "a2f463b2",
   "metadata": {},
   "source": [
    "#### Remplacer les valeurs manquantes par \"Unknown\" dans colonne Nation "
   ]
  },
  {
   "cell_type": "code",
   "execution_count": 14,
   "id": "1dd657b9",
   "metadata": {},
   "outputs": [
    {
     "data": {
      "text/plain": [
       "np.int64(0)"
      ]
     },
     "execution_count": 14,
     "metadata": {},
     "output_type": "execute_result"
    }
   ],
   "source": [
    "df[\"Nation\"].isna().sum()\n",
    "df[\"Nation\"]=df[\"Nation\"].fillna(\"Unknown\")\n",
    "df[\"Nation\"].isna().sum()\n"
   ]
  },
  {
   "cell_type": "markdown",
   "id": "9b7780cb",
   "metadata": {},
   "source": [
    "#### Remplacer les valeurs manquantes par Mean dans colonne Age "
   ]
  },
  {
   "cell_type": "code",
   "execution_count": 17,
   "id": "120fbc87",
   "metadata": {},
   "outputs": [
    {
     "data": {
      "text/plain": [
       "np.int64(0)"
      ]
     },
     "execution_count": 17,
     "metadata": {},
     "output_type": "execute_result"
    }
   ],
   "source": [
    "df[\"Age\"]=df[\"Age\"].fillna(df[\"Age\"].mean())\n",
    "df[\"Age\"].head()\n",
    "df[\"Age\"].isna().sum()"
   ]
  }
 ],
 "metadata": {
  "kernelspec": {
   "display_name": "Python 3",
   "language": "python",
   "name": "python3"
  },
  "language_info": {
   "codemirror_mode": {
    "name": "ipython",
    "version": 3
   },
   "file_extension": ".py",
   "mimetype": "text/x-python",
   "name": "python",
   "nbconvert_exporter": "python",
   "pygments_lexer": "ipython3",
   "version": "3.13.7"
  }
 },
 "nbformat": 4,
 "nbformat_minor": 5
}
